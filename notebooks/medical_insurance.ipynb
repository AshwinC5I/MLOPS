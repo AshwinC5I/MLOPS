{
 "cells": [
  {
   "cell_type": "code",
   "execution_count": 1,
   "metadata": {},
   "outputs": [],
   "source": [
    "# This Python 3 environment comes with many helpful analytics libraries installed\n",
    "# It is defined by the kaggle/python Docker image: https://github.com/kaggle/docker-python\n",
    "# For example, here's several helpful packages to load\n",
    "\n",
    "import numpy as np # linear algebra\n",
    "import pandas as pd # data processing, CSV file I/O (e.g. pd.read_csv)\n",
    "\n",
    "# Input data files are available in the read-only \"../input/\" directory\n",
    "# For example, running this (by clicking run or pressing Shift+Enter) will list all files under the input directory\n",
    "\n",
    "import os\n",
    "for dirname, _, filenames in os.walk('/kaggle/input'):\n",
    "    for filename in filenames:\n",
    "        print(os.path.join(dirname, filename))\n",
    "\n",
    "# You can write up to 20GB to the current directory (/kaggle/working/) that gets preserved as output when you create a version using \"Save & Run All\" \n",
    "# You can also write temporary files to /kaggle/temp/, but they won't be saved outside of the current session"
   ]
  },
  {
   "cell_type": "code",
   "execution_count": 2,
   "metadata": {},
   "outputs": [],
   "source": [
    "#Step-1- We are Importing Useful Libraries\n",
    "import pandas as pd\n",
    "import seaborn as sns\n",
    "from sklearn import preprocessing\n",
    "from sklearn.linear_model import LinearRegression\n",
    "from sklearn.model_selection import train_test_split"
   ]
  },
  {
   "cell_type": "code",
   "execution_count": 3,
   "metadata": {},
   "outputs": [],
   "source": [
    "#Step-2 Upload Data\n",
    "df=pd.read_csv('D:\\Course5i\\source_code\\expenses.csv')"
   ]
  },
  {
   "cell_type": "code",
   "execution_count": 4,
   "metadata": {},
   "outputs": [
    {
     "data": {
      "text/html": [
       "<div>\n",
       "<style scoped>\n",
       "    .dataframe tbody tr th:only-of-type {\n",
       "        vertical-align: middle;\n",
       "    }\n",
       "\n",
       "    .dataframe tbody tr th {\n",
       "        vertical-align: top;\n",
       "    }\n",
       "\n",
       "    .dataframe thead th {\n",
       "        text-align: right;\n",
       "    }\n",
       "</style>\n",
       "<table border=\"1\" class=\"dataframe\">\n",
       "  <thead>\n",
       "    <tr style=\"text-align: right;\">\n",
       "      <th></th>\n",
       "      <th>age</th>\n",
       "      <th>sex</th>\n",
       "      <th>bmi</th>\n",
       "      <th>children</th>\n",
       "      <th>smoker</th>\n",
       "      <th>region</th>\n",
       "      <th>charges</th>\n",
       "    </tr>\n",
       "  </thead>\n",
       "  <tbody>\n",
       "    <tr>\n",
       "      <th>0</th>\n",
       "      <td>19</td>\n",
       "      <td>female</td>\n",
       "      <td>27.900</td>\n",
       "      <td>0</td>\n",
       "      <td>yes</td>\n",
       "      <td>southwest</td>\n",
       "      <td>16884.92400</td>\n",
       "    </tr>\n",
       "    <tr>\n",
       "      <th>1</th>\n",
       "      <td>18</td>\n",
       "      <td>male</td>\n",
       "      <td>33.770</td>\n",
       "      <td>1</td>\n",
       "      <td>no</td>\n",
       "      <td>southeast</td>\n",
       "      <td>1725.55230</td>\n",
       "    </tr>\n",
       "    <tr>\n",
       "      <th>2</th>\n",
       "      <td>28</td>\n",
       "      <td>male</td>\n",
       "      <td>33.000</td>\n",
       "      <td>3</td>\n",
       "      <td>no</td>\n",
       "      <td>southeast</td>\n",
       "      <td>4449.46200</td>\n",
       "    </tr>\n",
       "    <tr>\n",
       "      <th>3</th>\n",
       "      <td>33</td>\n",
       "      <td>male</td>\n",
       "      <td>22.705</td>\n",
       "      <td>0</td>\n",
       "      <td>no</td>\n",
       "      <td>northwest</td>\n",
       "      <td>21984.47061</td>\n",
       "    </tr>\n",
       "    <tr>\n",
       "      <th>4</th>\n",
       "      <td>32</td>\n",
       "      <td>male</td>\n",
       "      <td>28.880</td>\n",
       "      <td>0</td>\n",
       "      <td>no</td>\n",
       "      <td>northwest</td>\n",
       "      <td>3866.85520</td>\n",
       "    </tr>\n",
       "  </tbody>\n",
       "</table>\n",
       "</div>"
      ],
      "text/plain": [
       "   age     sex     bmi  children smoker     region      charges\n",
       "0   19  female  27.900         0    yes  southwest  16884.92400\n",
       "1   18    male  33.770         1     no  southeast   1725.55230\n",
       "2   28    male  33.000         3     no  southeast   4449.46200\n",
       "3   33    male  22.705         0     no  northwest  21984.47061\n",
       "4   32    male  28.880         0     no  northwest   3866.85520"
      ]
     },
     "execution_count": 4,
     "metadata": {},
     "output_type": "execute_result"
    }
   ],
   "source": [
    "#Step-3 View Data\n",
    "df.head()"
   ]
  },
  {
   "cell_type": "code",
   "execution_count": 5,
   "metadata": {},
   "outputs": [
    {
     "data": {
      "text/plain": [
       "age         0\n",
       "sex         0\n",
       "bmi         0\n",
       "children    0\n",
       "smoker      0\n",
       "region      0\n",
       "charges     0\n",
       "dtype: int64"
      ]
     },
     "execution_count": 5,
     "metadata": {},
     "output_type": "execute_result"
    }
   ],
   "source": [
    "#Step-4- Check NaN/Null\n",
    "df.isnull().sum()"
   ]
  },
  {
   "cell_type": "code",
   "execution_count": 6,
   "metadata": {},
   "outputs": [
    {
     "data": {
      "text/plain": [
       "(1338, 7)"
      ]
     },
     "execution_count": 6,
     "metadata": {},
     "output_type": "execute_result"
    }
   ],
   "source": [
    "#Step-5 Check Shape\n",
    "df.shape"
   ]
  },
  {
   "cell_type": "code",
   "execution_count": 7,
   "metadata": {},
   "outputs": [
    {
     "name": "stdout",
     "output_type": "stream",
     "text": [
      "<class 'pandas.core.frame.DataFrame'>\n",
      "RangeIndex: 1338 entries, 0 to 1337\n",
      "Data columns (total 7 columns):\n",
      " #   Column    Non-Null Count  Dtype  \n",
      "---  ------    --------------  -----  \n",
      " 0   age       1338 non-null   int64  \n",
      " 1   sex       1338 non-null   object \n",
      " 2   bmi       1338 non-null   float64\n",
      " 3   children  1338 non-null   int64  \n",
      " 4   smoker    1338 non-null   object \n",
      " 5   region    1338 non-null   object \n",
      " 6   charges   1338 non-null   float64\n",
      "dtypes: float64(2), int64(2), object(3)\n",
      "memory usage: 73.3+ KB\n"
     ]
    }
   ],
   "source": [
    "#Step-6 Check info about Data\n",
    "df.info()"
   ]
  },
  {
   "cell_type": "code",
   "execution_count": 8,
   "metadata": {},
   "outputs": [],
   "source": [
    "#Step-7 Converting String/Object data to Int\n",
    "\n",
    "lbl=preprocessing.LabelEncoder()\n",
    "clms=[\"sex\", \"smoker\", \"region\"]\n",
    "for x in clms:\n",
    "    df[x]=lbl.fit_transform(df[x])"
   ]
  },
  {
   "cell_type": "code",
   "execution_count": 9,
   "metadata": {},
   "outputs": [
    {
     "data": {
      "text/html": [
       "<div>\n",
       "<style scoped>\n",
       "    .dataframe tbody tr th:only-of-type {\n",
       "        vertical-align: middle;\n",
       "    }\n",
       "\n",
       "    .dataframe tbody tr th {\n",
       "        vertical-align: top;\n",
       "    }\n",
       "\n",
       "    .dataframe thead th {\n",
       "        text-align: right;\n",
       "    }\n",
       "</style>\n",
       "<table border=\"1\" class=\"dataframe\">\n",
       "  <thead>\n",
       "    <tr style=\"text-align: right;\">\n",
       "      <th></th>\n",
       "      <th>age</th>\n",
       "      <th>sex</th>\n",
       "      <th>bmi</th>\n",
       "      <th>children</th>\n",
       "      <th>smoker</th>\n",
       "      <th>region</th>\n",
       "      <th>charges</th>\n",
       "    </tr>\n",
       "  </thead>\n",
       "  <tbody>\n",
       "    <tr>\n",
       "      <th>0</th>\n",
       "      <td>19</td>\n",
       "      <td>0</td>\n",
       "      <td>27.900</td>\n",
       "      <td>0</td>\n",
       "      <td>1</td>\n",
       "      <td>3</td>\n",
       "      <td>16884.92400</td>\n",
       "    </tr>\n",
       "    <tr>\n",
       "      <th>1</th>\n",
       "      <td>18</td>\n",
       "      <td>1</td>\n",
       "      <td>33.770</td>\n",
       "      <td>1</td>\n",
       "      <td>0</td>\n",
       "      <td>2</td>\n",
       "      <td>1725.55230</td>\n",
       "    </tr>\n",
       "    <tr>\n",
       "      <th>2</th>\n",
       "      <td>28</td>\n",
       "      <td>1</td>\n",
       "      <td>33.000</td>\n",
       "      <td>3</td>\n",
       "      <td>0</td>\n",
       "      <td>2</td>\n",
       "      <td>4449.46200</td>\n",
       "    </tr>\n",
       "    <tr>\n",
       "      <th>3</th>\n",
       "      <td>33</td>\n",
       "      <td>1</td>\n",
       "      <td>22.705</td>\n",
       "      <td>0</td>\n",
       "      <td>0</td>\n",
       "      <td>1</td>\n",
       "      <td>21984.47061</td>\n",
       "    </tr>\n",
       "    <tr>\n",
       "      <th>4</th>\n",
       "      <td>32</td>\n",
       "      <td>1</td>\n",
       "      <td>28.880</td>\n",
       "      <td>0</td>\n",
       "      <td>0</td>\n",
       "      <td>1</td>\n",
       "      <td>3866.85520</td>\n",
       "    </tr>\n",
       "  </tbody>\n",
       "</table>\n",
       "</div>"
      ],
      "text/plain": [
       "   age  sex     bmi  children  smoker  region      charges\n",
       "0   19    0  27.900         0       1       3  16884.92400\n",
       "1   18    1  33.770         1       0       2   1725.55230\n",
       "2   28    1  33.000         3       0       2   4449.46200\n",
       "3   33    1  22.705         0       0       1  21984.47061\n",
       "4   32    1  28.880         0       0       1   3866.85520"
      ]
     },
     "execution_count": 9,
     "metadata": {},
     "output_type": "execute_result"
    }
   ],
   "source": [
    "#Step-8 Check data\n",
    "df.head()"
   ]
  },
  {
   "cell_type": "code",
   "execution_count": 10,
   "metadata": {},
   "outputs": [],
   "source": [
    "#Step-9 Defining Data for Train & Test\n",
    "x=df.drop(\"charges\", axis=\"columns\")\n",
    "y=df[\"charges\"]"
   ]
  },
  {
   "cell_type": "code",
   "execution_count": 11,
   "metadata": {},
   "outputs": [],
   "source": [
    "#Step-10 Train_Test_Split Data\n",
    "xtrain,xtest,ytrain,ytest=train_test_split(x,y,test_size=0.3)"
   ]
  },
  {
   "cell_type": "code",
   "execution_count": 12,
   "metadata": {},
   "outputs": [],
   "source": [
    "#Step-11- Linear Model\n",
    "model=LinearRegression()"
   ]
  },
  {
   "cell_type": "code",
   "execution_count": 13,
   "metadata": {},
   "outputs": [
    {
     "data": {
      "text/html": [
       "<style>#sk-container-id-1 {color: black;background-color: white;}#sk-container-id-1 pre{padding: 0;}#sk-container-id-1 div.sk-toggleable {background-color: white;}#sk-container-id-1 label.sk-toggleable__label {cursor: pointer;display: block;width: 100%;margin-bottom: 0;padding: 0.3em;box-sizing: border-box;text-align: center;}#sk-container-id-1 label.sk-toggleable__label-arrow:before {content: \"▸\";float: left;margin-right: 0.25em;color: #696969;}#sk-container-id-1 label.sk-toggleable__label-arrow:hover:before {color: black;}#sk-container-id-1 div.sk-estimator:hover label.sk-toggleable__label-arrow:before {color: black;}#sk-container-id-1 div.sk-toggleable__content {max-height: 0;max-width: 0;overflow: hidden;text-align: left;background-color: #f0f8ff;}#sk-container-id-1 div.sk-toggleable__content pre {margin: 0.2em;color: black;border-radius: 0.25em;background-color: #f0f8ff;}#sk-container-id-1 input.sk-toggleable__control:checked~div.sk-toggleable__content {max-height: 200px;max-width: 100%;overflow: auto;}#sk-container-id-1 input.sk-toggleable__control:checked~label.sk-toggleable__label-arrow:before {content: \"▾\";}#sk-container-id-1 div.sk-estimator input.sk-toggleable__control:checked~label.sk-toggleable__label {background-color: #d4ebff;}#sk-container-id-1 div.sk-label input.sk-toggleable__control:checked~label.sk-toggleable__label {background-color: #d4ebff;}#sk-container-id-1 input.sk-hidden--visually {border: 0;clip: rect(1px 1px 1px 1px);clip: rect(1px, 1px, 1px, 1px);height: 1px;margin: -1px;overflow: hidden;padding: 0;position: absolute;width: 1px;}#sk-container-id-1 div.sk-estimator {font-family: monospace;background-color: #f0f8ff;border: 1px dotted black;border-radius: 0.25em;box-sizing: border-box;margin-bottom: 0.5em;}#sk-container-id-1 div.sk-estimator:hover {background-color: #d4ebff;}#sk-container-id-1 div.sk-parallel-item::after {content: \"\";width: 100%;border-bottom: 1px solid gray;flex-grow: 1;}#sk-container-id-1 div.sk-label:hover label.sk-toggleable__label {background-color: #d4ebff;}#sk-container-id-1 div.sk-serial::before {content: \"\";position: absolute;border-left: 1px solid gray;box-sizing: border-box;top: 0;bottom: 0;left: 50%;z-index: 0;}#sk-container-id-1 div.sk-serial {display: flex;flex-direction: column;align-items: center;background-color: white;padding-right: 0.2em;padding-left: 0.2em;position: relative;}#sk-container-id-1 div.sk-item {position: relative;z-index: 1;}#sk-container-id-1 div.sk-parallel {display: flex;align-items: stretch;justify-content: center;background-color: white;position: relative;}#sk-container-id-1 div.sk-item::before, #sk-container-id-1 div.sk-parallel-item::before {content: \"\";position: absolute;border-left: 1px solid gray;box-sizing: border-box;top: 0;bottom: 0;left: 50%;z-index: -1;}#sk-container-id-1 div.sk-parallel-item {display: flex;flex-direction: column;z-index: 1;position: relative;background-color: white;}#sk-container-id-1 div.sk-parallel-item:first-child::after {align-self: flex-end;width: 50%;}#sk-container-id-1 div.sk-parallel-item:last-child::after {align-self: flex-start;width: 50%;}#sk-container-id-1 div.sk-parallel-item:only-child::after {width: 0;}#sk-container-id-1 div.sk-dashed-wrapped {border: 1px dashed gray;margin: 0 0.4em 0.5em 0.4em;box-sizing: border-box;padding-bottom: 0.4em;background-color: white;}#sk-container-id-1 div.sk-label label {font-family: monospace;font-weight: bold;display: inline-block;line-height: 1.2em;}#sk-container-id-1 div.sk-label-container {text-align: center;}#sk-container-id-1 div.sk-container {/* jupyter's `normalize.less` sets `[hidden] { display: none; }` but bootstrap.min.css set `[hidden] { display: none !important; }` so we also need the `!important` here to be able to override the default hidden behavior on the sphinx rendered scikit-learn.org. See: https://github.com/scikit-learn/scikit-learn/issues/21755 */display: inline-block !important;position: relative;}#sk-container-id-1 div.sk-text-repr-fallback {display: none;}</style><div id=\"sk-container-id-1\" class=\"sk-top-container\"><div class=\"sk-text-repr-fallback\"><pre>LinearRegression()</pre><b>In a Jupyter environment, please rerun this cell to show the HTML representation or trust the notebook. <br />On GitHub, the HTML representation is unable to render, please try loading this page with nbviewer.org.</b></div><div class=\"sk-container\" hidden><div class=\"sk-item\"><div class=\"sk-estimator sk-toggleable\"><input class=\"sk-toggleable__control sk-hidden--visually\" id=\"sk-estimator-id-1\" type=\"checkbox\" checked><label for=\"sk-estimator-id-1\" class=\"sk-toggleable__label sk-toggleable__label-arrow\">LinearRegression</label><div class=\"sk-toggleable__content\"><pre>LinearRegression()</pre></div></div></div></div></div>"
      ],
      "text/plain": [
       "LinearRegression()"
      ]
     },
     "execution_count": 13,
     "metadata": {},
     "output_type": "execute_result"
    }
   ],
   "source": [
    "#Step-12- Train MOdel\n",
    "model.fit(xtrain,ytrain)"
   ]
  },
  {
   "cell_type": "code",
   "execution_count": 14,
   "metadata": {},
   "outputs": [
    {
     "data": {
      "text/plain": [
       "0.7755348815595035"
      ]
     },
     "execution_count": 14,
     "metadata": {},
     "output_type": "execute_result"
    }
   ],
   "source": [
    "#Step-13 Score\n",
    "model.score(xtest,ytest)"
   ]
  },
  {
   "cell_type": "code",
   "execution_count": 15,
   "metadata": {},
   "outputs": [
    {
     "data": {
      "text/plain": [
       "array([ 4.55224661e+03,  2.92511301e+04,  8.64895131e+03,  8.97631236e+03,\n",
       "        7.62941763e+03,  1.04615498e+04,  1.25376276e+04,  3.00088473e+04,\n",
       "        6.82649664e+03,  1.10411347e+04,  8.16439205e+03,  3.21531569e+04,\n",
       "        7.75845272e+03,  7.16878527e+03,  3.00126641e+03,  3.49250418e+04,\n",
       "        3.87753079e+04,  9.25078396e+03,  6.08650527e+03,  1.37654540e+04,\n",
       "        9.74509986e+03,  6.85869272e+03,  3.54026533e+04,  1.39185628e+04,\n",
       "        3.63881487e+03,  1.12456038e+04,  8.36766333e+03,  3.89484817e+04,\n",
       "        1.09178531e+04,  5.51473252e+03,  2.96114202e+03,  1.08463823e+04,\n",
       "        8.47248611e+03,  1.09042228e+04,  3.07424671e+04,  1.50167366e+03,\n",
       "        1.28822786e+04,  3.80603485e+03,  4.98264162e+03,  7.11753772e+03,\n",
       "        1.68866983e+04,  1.12775259e+04,  5.67045949e+03,  9.05211196e+03,\n",
       "        1.50262327e+04,  3.06485450e+04,  1.21179111e+04,  6.87644825e+03,\n",
       "        4.97489966e+03,  7.55977087e+03,  6.68398760e+03,  2.21098088e+03,\n",
       "        8.14025420e+03,  2.90337292e+03,  9.97110154e+03,  1.38956980e+03,\n",
       "        3.69306560e+04,  5.13022274e+03,  4.09949049e+03,  3.20621060e+04,\n",
       "        3.70105247e+03,  3.89379538e+03,  3.36029682e+04,  1.04168972e+04,\n",
       "        3.16449167e+04,  1.64999262e+04,  1.14401425e+04,  2.62551988e+04,\n",
       "        5.56066372e+03,  1.08763251e+04,  1.48347425e+04,  7.58321943e+03,\n",
       "        1.23759178e+04,  1.01939145e+04,  6.12876605e+03,  2.47188408e+04,\n",
       "        7.07535937e+03,  1.17369476e+04,  3.96599157e+03,  2.53142303e+04,\n",
       "        4.34012637e+03,  8.14777557e+03,  8.70320927e+03,  1.03929919e+04,\n",
       "        2.89887632e+04,  1.13008503e+04,  5.01240157e+03,  1.90753594e+04,\n",
       "        1.04435054e+04,  1.40871294e+04,  1.24412477e+04,  2.80889455e+04,\n",
       "        8.61258092e+03,  3.15908051e+03,  3.44255355e+04,  1.33212033e+04,\n",
       "        2.71815674e+04,  3.72711910e+04,  3.74054081e+04,  1.29116723e+04,\n",
       "        1.14634838e+04,  1.02176294e+03,  1.17445419e+04,  1.15375555e+04,\n",
       "        3.50952164e+04,  9.45769023e+03,  1.20502145e+04,  3.05139768e+03,\n",
       "        2.83037017e+03,  3.66250031e+03,  1.28348570e+04,  1.03137464e+04,\n",
       "        4.61784691e+03,  8.05573332e+03,  1.23029714e+04,  2.37945422e+03,\n",
       "        1.07126790e+04,  1.31003242e+04,  1.19176652e+04,  1.04810914e+04,\n",
       "        3.59694083e+03,  6.76961351e+03,  1.15243158e+04,  3.20747527e+03,\n",
       "        1.01535806e+04,  7.35768260e+03,  1.50472633e+04,  6.78286041e+03,\n",
       "        3.26966807e+01,  5.22729592e+03,  2.89227638e+03,  1.13264117e+04,\n",
       "        2.73298794e+04,  1.07708410e+04,  1.46488602e+03,  9.64805457e+03,\n",
       "        1.07633872e+04,  1.79896246e+04,  2.32947931e+04,  7.55014628e+03,\n",
       "        8.87063024e+03,  6.21035673e+03,  7.02418475e+03,  4.16824004e+03,\n",
       "        5.62877414e+03,  4.14211317e+03,  3.11820036e+04,  1.24782293e+04,\n",
       "        1.38735550e+04,  1.17640511e+04,  3.02255799e+04,  1.26689846e+04,\n",
       "        9.31422089e+03,  1.51817089e+04,  1.19213866e+04,  5.57142474e+03,\n",
       "        1.52013351e+04, -5.02135737e+02,  1.36696087e+04,  1.14153482e+04,\n",
       "        7.54163434e+03,  1.49869816e+04,  1.00870246e+04,  3.81935046e+03,\n",
       "        1.85763475e+04,  7.68485859e+03,  6.42447184e+03,  2.06951215e+03,\n",
       "        2.70088564e+04,  8.48478418e+03,  1.17785373e+04,  1.47222950e+04,\n",
       "        1.45959893e+04,  4.30010963e+03,  1.74352068e+03,  5.85749012e+03,\n",
       "        3.66708104e+04,  4.57731478e+03,  2.53102995e+04,  3.56873108e+04,\n",
       "        3.93084685e+04,  8.65711802e+03,  1.13067906e+04,  9.70204211e+03,\n",
       "        5.57282833e+03,  3.71503081e+04,  5.54230004e+03,  3.19433217e+04,\n",
       "        5.87530955e+03,  1.30409799e+04,  3.20040902e+03,  2.81952185e+04,\n",
       "        1.28673635e+04,  1.64774287e+04,  4.92796868e+02,  1.14135153e+04,\n",
       "        1.05827306e+04,  6.96351550e+03,  1.54960581e+04,  1.27464342e+04,\n",
       "        3.73603860e+04,  3.49731740e+04,  3.15278072e+03,  2.85455959e+04,\n",
       "        2.27415573e+02,  1.12536323e+04,  3.30957275e+04,  3.94570437e+04,\n",
       "        2.70006049e+04,  1.12051967e+04,  3.86768577e+03,  6.78410662e+03,\n",
       "        2.75228944e+04,  5.88097140e+03,  5.16736253e+03,  1.34633382e+04,\n",
       "        5.39876772e+03,  1.49705078e+04,  9.35774935e+03,  1.28175614e+04,\n",
       "        4.08106197e+03,  7.90413890e+03,  3.97558453e+04,  5.00356808e+03,\n",
       "        1.47196082e+04,  3.74314074e+04,  2.44711293e+03,  3.92601153e+03,\n",
       "        1.21392188e+04,  4.02748702e+04,  1.59377841e+03,  3.71060948e+04,\n",
       "        5.30444894e+03,  7.48142489e+03,  6.20186685e+03,  5.78774696e+03,\n",
       "        2.93711568e+03,  3.50308818e+03,  3.11570344e+03,  2.36194557e+03,\n",
       "        3.57510615e+04,  1.35776332e+04,  3.87252031e+04,  1.51407845e+03,\n",
       "        5.29952846e+03,  1.35924534e+04,  2.76022212e+04,  1.45726052e+03,\n",
       "        3.19661506e+02,  3.90467228e+04,  1.64447597e+04,  5.86880912e+03,\n",
       "        2.70509811e+04,  1.26384413e+04,  8.20178291e+03,  1.10316320e+04,\n",
       "        1.27878400e+04,  5.53943574e+03,  2.73711459e+04,  1.88607368e+03,\n",
       "        5.25976514e+03,  1.18227147e+04,  2.82915788e+04,  1.24058340e+04,\n",
       "        1.11366095e+04,  4.56110344e+03,  5.71818969e+03,  3.19209041e+04,\n",
       "        5.02177907e+03,  7.36460495e+03,  7.82347471e+02,  1.72229937e+04,\n",
       "        3.63052150e+04,  1.43446267e+04,  1.27531946e+04,  1.65385323e+04,\n",
       "        1.10771695e+04,  1.28252609e+04,  1.16746640e+04,  1.49232648e+04,\n",
       "        1.02074190e+04,  5.58713579e+03,  7.76646921e+03,  9.12000098e+03,\n",
       "        1.42385731e+04,  1.57779131e+04,  2.91149450e+01,  3.72199556e+04,\n",
       "        9.01375575e+03,  1.17311225e+04,  8.16381005e+03,  1.33557170e+04,\n",
       "        1.36282548e+04,  8.17346162e+03,  2.88919867e+04,  1.00165787e+04,\n",
       "        2.75189196e+04,  3.90084610e+04,  1.52177101e+04,  1.04012142e+04,\n",
       "        9.98423563e+03,  1.23214303e+04,  6.87468746e+03,  1.06437030e+04,\n",
       "        1.01621720e+04,  1.16900872e+04,  2.48698838e+04,  1.36340481e+04,\n",
       "        1.64657243e+04, -2.84721979e+02,  3.14238463e+03,  1.32692148e+04,\n",
       "        1.20669042e+04,  5.38313898e+03,  2.57674352e+03,  1.43270271e+03,\n",
       "        3.06697744e+04,  3.80762257e+04,  5.41210831e+03,  5.45284895e+03,\n",
       "        4.09350851e+03,  5.98560126e+03,  3.50707338e+04,  5.41261772e+03,\n",
       "        2.40011168e+03,  2.33697039e+03,  3.30470571e+03, -9.00438063e+02,\n",
       "        1.23619393e+04,  8.00640780e+03,  1.26948099e+04,  2.62053174e+03,\n",
       "        5.44946786e+03,  2.48040632e+03,  3.60650151e+03,  3.40116034e+04,\n",
       "        2.22224757e+03,  8.68293716e+03,  7.86530235e+03,  8.86103028e+03,\n",
       "        1.05730492e+04,  3.37098089e+03,  8.47389474e+03,  8.20349961e+03,\n",
       "        4.20954074e+03,  3.93594384e+04,  1.09315747e+04,  1.15439767e+04,\n",
       "        3.07609644e+04,  8.29125394e+03,  1.19894568e+04,  3.44265299e+03,\n",
       "        1.15628179e+04,  3.28798159e+04,  5.80172081e+03,  1.80375828e+03,\n",
       "        2.96114202e+03, -1.13304620e+03,  2.51837056e+04,  4.49100110e+03,\n",
       "        3.00817513e+04,  1.46575673e+04,  3.83204561e+04,  1.16587643e+04,\n",
       "        3.59576599e+04,  3.14883488e+04,  1.43127635e+04,  8.96305126e+03,\n",
       "        6.56468991e+03,  3.20556430e+04,  1.32344702e+04,  1.29138900e+04,\n",
       "        1.36084441e+04,  1.72115791e+03,  7.44170401e+03,  8.84531442e+03,\n",
       "        6.17684923e+03,  3.78807693e+04,  1.25774607e+04,  1.79497684e+03,\n",
       "        1.14909456e+04,  1.35812180e+04,  1.39937862e+04,  1.22990162e+04,\n",
       "        3.65267018e+04,  1.33901313e+04,  3.78366682e+04,  7.18620858e+03,\n",
       "        1.03383930e+04,  1.21891113e+04,  5.49698052e+03,  5.48065369e+03,\n",
       "        6.49362983e+03,  5.41836331e+03,  1.13562616e+04,  1.03163098e+04,\n",
       "        5.80712349e+03,  4.19931562e+03,  3.63020271e+04,  1.19048399e+04,\n",
       "        1.48343949e+04,  3.17865104e+04])"
      ]
     },
     "execution_count": 15,
     "metadata": {},
     "output_type": "execute_result"
    }
   ],
   "source": [
    "#Step-14 Predict\n",
    "model.predict(xtest)"
   ]
  },
  {
   "cell_type": "code",
   "execution_count": 16,
   "metadata": {},
   "outputs": [
    {
     "data": {
      "text/plain": [
       "0    574\n",
       "1    324\n",
       "2    240\n",
       "3    157\n",
       "4     25\n",
       "5     18\n",
       "Name: children, dtype: int64"
      ]
     },
     "execution_count": 16,
     "metadata": {},
     "output_type": "execute_result"
    }
   ],
   "source": [
    "#Step- 15- More Insights about Data\n",
    "max(df[\"age\"])   #Maximum Age, who Enrolled for Medical Insurance\n",
    "min(df[\"age\"])   #Minimum Age, who Enrolled for Medical Insurance\n",
    "df[\"age\"].value_counts() #Number of Person Age wise, Enrolled for Medical Insurance\n",
    "df[\"sex\"].value_counts() #Number of Person Gender wise, Enrolled for Medical Insurance\n",
    "df[\"smoker\"].value_counts() #Number of Person Smoke Category wise, Enrolled for Medical Insurance\n",
    "df[\"children\"].value_counts() #Number of Person Region wise, Enrolled for Medical Insurance"
   ]
  }
 ],
 "metadata": {
  "kernelspec": {
   "display_name": "demo-course5i",
   "language": "python",
   "name": "python3"
  },
  "language_info": {
   "codemirror_mode": {
    "name": "ipython",
    "version": 3
   },
   "file_extension": ".py",
   "mimetype": "text/x-python",
   "name": "python",
   "nbconvert_exporter": "python",
   "pygments_lexer": "ipython3",
   "version": "3.10.8"
  },
  "orig_nbformat": 4,
  "vscode": {
   "interpreter": {
    "hash": "0041fc30cae2a698ba3e915a6305cc7f2172e6083951c38fa8e52fa8bcb0019a"
   }
  }
 },
 "nbformat": 4,
 "nbformat_minor": 2
}
